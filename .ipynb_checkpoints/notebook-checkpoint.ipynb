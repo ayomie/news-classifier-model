{
 "cells": [
  {
   "cell_type": "markdown",
   "id": "f1ebe68e-f9fa-48a5-b83b-455dc931d34e",
   "metadata": {},
   "source": [
    "**Problem Statement**\n",
    "\n",
    "The genuineness of Information has become a long term issue influencing organizations and society, both for printed and computerized media. On interpersonal organizations, the compass and impacts of data spread happen at such a quick pace thus enhanced that mutilated, off base or bogus data procures an enormous potential to cause genuine effects, in practically no time, for many clients.\n",
    "\n",
    "To provide a solution to this problem, Machine Learning comes in handy. With an historical data that contains information on fake and real news, Machine Learning can be used to classify articles as either fake or not using underlying patterns from the historical data"
   ]
  },
  {
   "cell_type": "code",
   "execution_count": 65,
   "id": "7425db3b-1191-46a3-90d7-07d11fcb7baa",
   "metadata": {},
   "outputs": [],
   "source": [
    "import pandas as pd\n",
    "import numpy as np\n",
    "import matplotlib.pyplot as plt\n",
    "from sklearn.utils import shuffle\n",
    "from sklearn.preprocessing import StandardScaler\n",
    "from sklearn.feature_extraction.text import CountVectorizer, TfidfTransformer\n",
    "from sklearn.metrics import classification_report, accuracy_score, f1_score, precision_score\n",
    "from sklearn.ensemble import RandomForestClassifier\n",
    "from sklearn.linear_model import LogisticRegression\n",
    "from sklearn.neighbors import KNeighborsClassifier\n",
    "from sklearn.tree import DecisionTreeClassifier\n",
    "from sklearn.svm import LinearSVC\n",
    "from sklearn.naive_bayes import GaussianNB\n",
    "from sklearn.ensemble import StackingClassifier\n",
    "from sklearn.model_selection import cross_val_score, RepeatedStratifiedKFold, train_test_split\n",
    "\n",
    "\n",
    "import re\n",
    "from nltk.stem import WordNetLemmatizer\n",
    "\n",
    "\n",
    "import nltk\n",
    "from nltk import word_tokenize\n",
    "from nltk.tokenize.treebank import TreebankWordDetokenizer as detokenize\n",
    "from nltk.corpus import stopwords\n",
    "\n",
    "from textblob import TextBlob\n",
    "\n",
    "import datetime as dt\n",
    "import warnings\n",
    "import string\n",
    "\n",
    "import matplotlib.pyplot as plt\n",
    "import seaborn as sns\n",
    "%matplotlib inline\n",
    "sns.set()\n",
    "\n",
    "# stop_words = []\n",
    "stop_words = list(set(stopwords.words('english')))\n",
    "warnings.filterwarnings('ignore')\n",
    "punctuation = string.punctuation"
   ]
  },
  {
   "cell_type": "code",
   "execution_count": 66,
   "id": "3f23761a-a09b-4af2-8609-2030ca13fd4e",
   "metadata": {},
   "outputs": [],
   "source": [
    "import flask"
   ]
  },
  {
   "cell_type": "code",
   "execution_count": 67,
   "id": "ff750d80-0774-4111-81f2-7fc17ccd1f39",
   "metadata": {},
   "outputs": [],
   "source": [
    "fake_data = pd.read_csv(\"../news-classfier-model/data/archive/Fake.csv\")\n",
    "true_data = pd.read_csv(\"../news-classfier-model/data/archive/True.csv\")"
   ]
  },
  {
   "cell_type": "code",
   "execution_count": 68,
   "id": "27839ee5-4966-4100-a73b-9b5040b21084",
   "metadata": {},
   "outputs": [],
   "source": [
    "fake_data[\"label\"] = 0\n",
    "true_data[\"label\"] = 1"
   ]
  },
  {
   "cell_type": "code",
   "execution_count": 69,
   "id": "5ae05e54-5114-47df-a6df-ac370bdbae92",
   "metadata": {},
   "outputs": [
    {
     "data": {
      "text/html": [
       "<div>\n",
       "<style scoped>\n",
       "    .dataframe tbody tr th:only-of-type {\n",
       "        vertical-align: middle;\n",
       "    }\n",
       "\n",
       "    .dataframe tbody tr th {\n",
       "        vertical-align: top;\n",
       "    }\n",
       "\n",
       "    .dataframe thead th {\n",
       "        text-align: right;\n",
       "    }\n",
       "</style>\n",
       "<table border=\"1\" class=\"dataframe\">\n",
       "  <thead>\n",
       "    <tr style=\"text-align: right;\">\n",
       "      <th></th>\n",
       "      <th>title</th>\n",
       "      <th>text</th>\n",
       "      <th>subject</th>\n",
       "      <th>date</th>\n",
       "      <th>label</th>\n",
       "    </tr>\n",
       "  </thead>\n",
       "  <tbody>\n",
       "    <tr>\n",
       "      <th>0</th>\n",
       "      <td>Donald Trump Sends Out Embarrassing New Year’...</td>\n",
       "      <td>Donald Trump just couldn t wish all Americans ...</td>\n",
       "      <td>News</td>\n",
       "      <td>December 31, 2017</td>\n",
       "      <td>0</td>\n",
       "    </tr>\n",
       "    <tr>\n",
       "      <th>1</th>\n",
       "      <td>Drunk Bragging Trump Staffer Started Russian ...</td>\n",
       "      <td>House Intelligence Committee Chairman Devin Nu...</td>\n",
       "      <td>News</td>\n",
       "      <td>December 31, 2017</td>\n",
       "      <td>0</td>\n",
       "    </tr>\n",
       "    <tr>\n",
       "      <th>2</th>\n",
       "      <td>Sheriff David Clarke Becomes An Internet Joke...</td>\n",
       "      <td>On Friday, it was revealed that former Milwauk...</td>\n",
       "      <td>News</td>\n",
       "      <td>December 30, 2017</td>\n",
       "      <td>0</td>\n",
       "    </tr>\n",
       "    <tr>\n",
       "      <th>3</th>\n",
       "      <td>Trump Is So Obsessed He Even Has Obama’s Name...</td>\n",
       "      <td>On Christmas day, Donald Trump announced that ...</td>\n",
       "      <td>News</td>\n",
       "      <td>December 29, 2017</td>\n",
       "      <td>0</td>\n",
       "    </tr>\n",
       "    <tr>\n",
       "      <th>4</th>\n",
       "      <td>Pope Francis Just Called Out Donald Trump Dur...</td>\n",
       "      <td>Pope Francis used his annual Christmas Day mes...</td>\n",
       "      <td>News</td>\n",
       "      <td>December 25, 2017</td>\n",
       "      <td>0</td>\n",
       "    </tr>\n",
       "  </tbody>\n",
       "</table>\n",
       "</div>"
      ],
      "text/plain": [
       "                                               title  \\\n",
       "0   Donald Trump Sends Out Embarrassing New Year’...   \n",
       "1   Drunk Bragging Trump Staffer Started Russian ...   \n",
       "2   Sheriff David Clarke Becomes An Internet Joke...   \n",
       "3   Trump Is So Obsessed He Even Has Obama’s Name...   \n",
       "4   Pope Francis Just Called Out Donald Trump Dur...   \n",
       "\n",
       "                                                text subject  \\\n",
       "0  Donald Trump just couldn t wish all Americans ...    News   \n",
       "1  House Intelligence Committee Chairman Devin Nu...    News   \n",
       "2  On Friday, it was revealed that former Milwauk...    News   \n",
       "3  On Christmas day, Donald Trump announced that ...    News   \n",
       "4  Pope Francis used his annual Christmas Day mes...    News   \n",
       "\n",
       "                date  label  \n",
       "0  December 31, 2017      0  \n",
       "1  December 31, 2017      0  \n",
       "2  December 30, 2017      0  \n",
       "3  December 29, 2017      0  \n",
       "4  December 25, 2017      0  "
      ]
     },
     "execution_count": 69,
     "metadata": {},
     "output_type": "execute_result"
    }
   ],
   "source": [
    "fake_data.head()"
   ]
  },
  {
   "cell_type": "code",
   "execution_count": 70,
   "id": "1a300074-471b-4329-836f-38dd3ef9c75a",
   "metadata": {},
   "outputs": [
    {
     "data": {
      "text/html": [
       "<div>\n",
       "<style scoped>\n",
       "    .dataframe tbody tr th:only-of-type {\n",
       "        vertical-align: middle;\n",
       "    }\n",
       "\n",
       "    .dataframe tbody tr th {\n",
       "        vertical-align: top;\n",
       "    }\n",
       "\n",
       "    .dataframe thead th {\n",
       "        text-align: right;\n",
       "    }\n",
       "</style>\n",
       "<table border=\"1\" class=\"dataframe\">\n",
       "  <thead>\n",
       "    <tr style=\"text-align: right;\">\n",
       "      <th></th>\n",
       "      <th>title</th>\n",
       "      <th>text</th>\n",
       "      <th>subject</th>\n",
       "      <th>date</th>\n",
       "      <th>label</th>\n",
       "    </tr>\n",
       "  </thead>\n",
       "  <tbody>\n",
       "    <tr>\n",
       "      <th>0</th>\n",
       "      <td>As U.S. budget fight looms, Republicans flip t...</td>\n",
       "      <td>WASHINGTON (Reuters) - The head of a conservat...</td>\n",
       "      <td>politicsNews</td>\n",
       "      <td>December 31, 2017</td>\n",
       "      <td>1</td>\n",
       "    </tr>\n",
       "    <tr>\n",
       "      <th>1</th>\n",
       "      <td>U.S. military to accept transgender recruits o...</td>\n",
       "      <td>WASHINGTON (Reuters) - Transgender people will...</td>\n",
       "      <td>politicsNews</td>\n",
       "      <td>December 29, 2017</td>\n",
       "      <td>1</td>\n",
       "    </tr>\n",
       "    <tr>\n",
       "      <th>2</th>\n",
       "      <td>Senior U.S. Republican senator: 'Let Mr. Muell...</td>\n",
       "      <td>WASHINGTON (Reuters) - The special counsel inv...</td>\n",
       "      <td>politicsNews</td>\n",
       "      <td>December 31, 2017</td>\n",
       "      <td>1</td>\n",
       "    </tr>\n",
       "    <tr>\n",
       "      <th>3</th>\n",
       "      <td>FBI Russia probe helped by Australian diplomat...</td>\n",
       "      <td>WASHINGTON (Reuters) - Trump campaign adviser ...</td>\n",
       "      <td>politicsNews</td>\n",
       "      <td>December 30, 2017</td>\n",
       "      <td>1</td>\n",
       "    </tr>\n",
       "    <tr>\n",
       "      <th>4</th>\n",
       "      <td>Trump wants Postal Service to charge 'much mor...</td>\n",
       "      <td>SEATTLE/WASHINGTON (Reuters) - President Donal...</td>\n",
       "      <td>politicsNews</td>\n",
       "      <td>December 29, 2017</td>\n",
       "      <td>1</td>\n",
       "    </tr>\n",
       "  </tbody>\n",
       "</table>\n",
       "</div>"
      ],
      "text/plain": [
       "                                               title  \\\n",
       "0  As U.S. budget fight looms, Republicans flip t...   \n",
       "1  U.S. military to accept transgender recruits o...   \n",
       "2  Senior U.S. Republican senator: 'Let Mr. Muell...   \n",
       "3  FBI Russia probe helped by Australian diplomat...   \n",
       "4  Trump wants Postal Service to charge 'much mor...   \n",
       "\n",
       "                                                text       subject  \\\n",
       "0  WASHINGTON (Reuters) - The head of a conservat...  politicsNews   \n",
       "1  WASHINGTON (Reuters) - Transgender people will...  politicsNews   \n",
       "2  WASHINGTON (Reuters) - The special counsel inv...  politicsNews   \n",
       "3  WASHINGTON (Reuters) - Trump campaign adviser ...  politicsNews   \n",
       "4  SEATTLE/WASHINGTON (Reuters) - President Donal...  politicsNews   \n",
       "\n",
       "                 date  label  \n",
       "0  December 31, 2017       1  \n",
       "1  December 29, 2017       1  \n",
       "2  December 31, 2017       1  \n",
       "3  December 30, 2017       1  \n",
       "4  December 29, 2017       1  "
      ]
     },
     "execution_count": 70,
     "metadata": {},
     "output_type": "execute_result"
    }
   ],
   "source": [
    "true_data.head()"
   ]
  },
  {
   "cell_type": "code",
   "execution_count": 71,
   "id": "30164665-3e38-46f1-85ea-88483607a0b4",
   "metadata": {},
   "outputs": [],
   "source": [
    "frames = [fake_data, true_data]\n",
    "  \n",
    "data = pd.concat(frames)"
   ]
  },
  {
   "cell_type": "code",
   "execution_count": 72,
   "id": "55b02fe2-b489-4cf1-8fd7-344078de2d32",
   "metadata": {},
   "outputs": [
    {
     "data": {
      "text/html": [
       "<div>\n",
       "<style scoped>\n",
       "    .dataframe tbody tr th:only-of-type {\n",
       "        vertical-align: middle;\n",
       "    }\n",
       "\n",
       "    .dataframe tbody tr th {\n",
       "        vertical-align: top;\n",
       "    }\n",
       "\n",
       "    .dataframe thead th {\n",
       "        text-align: right;\n",
       "    }\n",
       "</style>\n",
       "<table border=\"1\" class=\"dataframe\">\n",
       "  <thead>\n",
       "    <tr style=\"text-align: right;\">\n",
       "      <th></th>\n",
       "      <th>title</th>\n",
       "      <th>text</th>\n",
       "      <th>subject</th>\n",
       "      <th>date</th>\n",
       "      <th>label</th>\n",
       "    </tr>\n",
       "  </thead>\n",
       "  <tbody>\n",
       "    <tr>\n",
       "      <th>0</th>\n",
       "      <td>Donald Trump Sends Out Embarrassing New Year’...</td>\n",
       "      <td>Donald Trump just couldn t wish all Americans ...</td>\n",
       "      <td>News</td>\n",
       "      <td>December 31, 2017</td>\n",
       "      <td>0</td>\n",
       "    </tr>\n",
       "    <tr>\n",
       "      <th>1</th>\n",
       "      <td>Drunk Bragging Trump Staffer Started Russian ...</td>\n",
       "      <td>House Intelligence Committee Chairman Devin Nu...</td>\n",
       "      <td>News</td>\n",
       "      <td>December 31, 2017</td>\n",
       "      <td>0</td>\n",
       "    </tr>\n",
       "    <tr>\n",
       "      <th>2</th>\n",
       "      <td>Sheriff David Clarke Becomes An Internet Joke...</td>\n",
       "      <td>On Friday, it was revealed that former Milwauk...</td>\n",
       "      <td>News</td>\n",
       "      <td>December 30, 2017</td>\n",
       "      <td>0</td>\n",
       "    </tr>\n",
       "    <tr>\n",
       "      <th>3</th>\n",
       "      <td>Trump Is So Obsessed He Even Has Obama’s Name...</td>\n",
       "      <td>On Christmas day, Donald Trump announced that ...</td>\n",
       "      <td>News</td>\n",
       "      <td>December 29, 2017</td>\n",
       "      <td>0</td>\n",
       "    </tr>\n",
       "    <tr>\n",
       "      <th>4</th>\n",
       "      <td>Pope Francis Just Called Out Donald Trump Dur...</td>\n",
       "      <td>Pope Francis used his annual Christmas Day mes...</td>\n",
       "      <td>News</td>\n",
       "      <td>December 25, 2017</td>\n",
       "      <td>0</td>\n",
       "    </tr>\n",
       "  </tbody>\n",
       "</table>\n",
       "</div>"
      ],
      "text/plain": [
       "                                               title  \\\n",
       "0   Donald Trump Sends Out Embarrassing New Year’...   \n",
       "1   Drunk Bragging Trump Staffer Started Russian ...   \n",
       "2   Sheriff David Clarke Becomes An Internet Joke...   \n",
       "3   Trump Is So Obsessed He Even Has Obama’s Name...   \n",
       "4   Pope Francis Just Called Out Donald Trump Dur...   \n",
       "\n",
       "                                                text subject  \\\n",
       "0  Donald Trump just couldn t wish all Americans ...    News   \n",
       "1  House Intelligence Committee Chairman Devin Nu...    News   \n",
       "2  On Friday, it was revealed that former Milwauk...    News   \n",
       "3  On Christmas day, Donald Trump announced that ...    News   \n",
       "4  Pope Francis used his annual Christmas Day mes...    News   \n",
       "\n",
       "                date  label  \n",
       "0  December 31, 2017      0  \n",
       "1  December 31, 2017      0  \n",
       "2  December 30, 2017      0  \n",
       "3  December 29, 2017      0  \n",
       "4  December 25, 2017      0  "
      ]
     },
     "execution_count": 72,
     "metadata": {},
     "output_type": "execute_result"
    }
   ],
   "source": [
    "data.head()"
   ]
  },
  {
   "cell_type": "code",
   "execution_count": 73,
   "id": "04d7fdb9-8b81-4af0-b3de-58b290909378",
   "metadata": {},
   "outputs": [],
   "source": [
    "data.drop([\"subject\", \"date\"], axis=1, inplace=True)"
   ]
  },
  {
   "cell_type": "code",
   "execution_count": 74,
   "id": "226f2394-16ca-4c02-a8e2-a1dd4ed87f0c",
   "metadata": {},
   "outputs": [],
   "source": [
    "df = shuffle(data)\n",
    "df.reset_index(inplace=True, drop=True)"
   ]
  },
  {
   "cell_type": "code",
   "execution_count": 75,
   "id": "d0bbfe39-a168-4068-a0ee-dc555130232c",
   "metadata": {},
   "outputs": [
    {
     "data": {
      "text/html": [
       "<div>\n",
       "<style scoped>\n",
       "    .dataframe tbody tr th:only-of-type {\n",
       "        vertical-align: middle;\n",
       "    }\n",
       "\n",
       "    .dataframe tbody tr th {\n",
       "        vertical-align: top;\n",
       "    }\n",
       "\n",
       "    .dataframe thead th {\n",
       "        text-align: right;\n",
       "    }\n",
       "</style>\n",
       "<table border=\"1\" class=\"dataframe\">\n",
       "  <thead>\n",
       "    <tr style=\"text-align: right;\">\n",
       "      <th></th>\n",
       "      <th>title</th>\n",
       "      <th>text</th>\n",
       "      <th>label</th>\n",
       "    </tr>\n",
       "  </thead>\n",
       "  <tbody>\n",
       "    <tr>\n",
       "      <th>0</th>\n",
       "      <td>Florida nursing home where deaths occurred was...</td>\n",
       "      <td>(Reuters) - Florida Power &amp; Light said on Wedn...</td>\n",
       "      <td>1</td>\n",
       "    </tr>\n",
       "    <tr>\n",
       "      <th>1</th>\n",
       "      <td>BREAKING LIVE FEED: POLICE FORM LARGE BARRICAD...</td>\n",
       "      <td>A large group of Black Lives Matter protesters...</td>\n",
       "      <td>0</td>\n",
       "    </tr>\n",
       "    <tr>\n",
       "      <th>2</th>\n",
       "      <td>BREAKING: MUSLIM TERRORIST’S DAD Visited State...</td>\n",
       "      <td>He was such a nice boy, from such a nice famil...</td>\n",
       "      <td>0</td>\n",
       "    </tr>\n",
       "    <tr>\n",
       "      <th>3</th>\n",
       "      <td>Police have thwarted seven attacks since March...</td>\n",
       "      <td>BRIGHTON, England (Reuters) - London Mayor Sad...</td>\n",
       "      <td>1</td>\n",
       "    </tr>\n",
       "    <tr>\n",
       "      <th>4</th>\n",
       "      <td>Trump Hotels pulls out of Rio hotel named in c...</td>\n",
       "      <td>BRASILIA (Reuters) - The Trump Organization In...</td>\n",
       "      <td>1</td>\n",
       "    </tr>\n",
       "  </tbody>\n",
       "</table>\n",
       "</div>"
      ],
      "text/plain": [
       "                                               title  \\\n",
       "0  Florida nursing home where deaths occurred was...   \n",
       "1  BREAKING LIVE FEED: POLICE FORM LARGE BARRICAD...   \n",
       "2  BREAKING: MUSLIM TERRORIST’S DAD Visited State...   \n",
       "3  Police have thwarted seven attacks since March...   \n",
       "4  Trump Hotels pulls out of Rio hotel named in c...   \n",
       "\n",
       "                                                text  label  \n",
       "0  (Reuters) - Florida Power & Light said on Wedn...      1  \n",
       "1  A large group of Black Lives Matter protesters...      0  \n",
       "2  He was such a nice boy, from such a nice famil...      0  \n",
       "3  BRIGHTON, England (Reuters) - London Mayor Sad...      1  \n",
       "4  BRASILIA (Reuters) - The Trump Organization In...      1  "
      ]
     },
     "execution_count": 75,
     "metadata": {},
     "output_type": "execute_result"
    }
   ],
   "source": [
    "df.head()"
   ]
  },
  {
   "cell_type": "code",
   "execution_count": 76,
   "id": "03cd85c7-2a77-4117-b455-597d29482f91",
   "metadata": {},
   "outputs": [
    {
     "data": {
      "text/plain": [
       "title    0\n",
       "text     0\n",
       "label    0\n",
       "dtype: int64"
      ]
     },
     "execution_count": 76,
     "metadata": {},
     "output_type": "execute_result"
    }
   ],
   "source": [
    "df.isnull().sum()"
   ]
  },
  {
   "cell_type": "markdown",
   "id": "97b7c810-5e00-4b77-9f4f-d09c4450fdb5",
   "metadata": {},
   "source": [
    "**Data PreProcessing**\n",
    "\n",
    "Extracting some features from the title and news content\n",
    "The news title and content contains some information that may be important in understaing the pattern undelying in fake or real articles. some of the information that could be extracted includes the length of the title and article, the number of words, the number of part of speech in each article content, etc. Hence we will extract these features and use them in the future to provide a model"
   ]
  },
  {
   "cell_type": "code",
   "execution_count": 77,
   "id": "bf572edf-2028-4b3a-98d6-055fd958e430",
   "metadata": {},
   "outputs": [],
   "source": [
    "def text_process(df):\n",
    "    \"\"\"\n",
    "    Extracts some text information from both news title and content\n",
    "    \n",
    "    Input: \n",
    "        df (dataframe like object): This is a data read in using pandas\n",
    "    \n",
    "    Output: \n",
    "        df (datafame like object): This is a preprocessed data with some new columns extracted from the\n",
    "            article title and content\n",
    "    \"\"\"\n",
    "    df[\"title_len\"] = df['title'].apply(len)  # getting the length of the title including space\n",
    "    df[\"text_len\"] = df['text'].apply(len)  # getting the length of the title including space\n",
    "    df['char_count'] = df['text'].apply(len)\n",
    "    df['word_count'] = df['text'].apply(lambda x: len(x.split()))  # counting the words in text excluding spaces\n",
    "    df['word_density'] = df['char_count'] / (df['word_count']+1)  # average length of word used in each text\n",
    "    df['punctuation_count'] = df['text'].apply(lambda x: len(\"\".join(_ for _ in x if _ in punctuation))) \n",
    "    df['title_word_count'] = df['text'].apply(lambda x: len([wrd for wrd in x.split() if wrd.istitle()]))  #total number of proper case (title) words in the content\n",
    "    df['upper_case_word_count'] = df['text'].apply(lambda x: len([wrd for wrd in x.split() if wrd.isupper()])) # total number of upper count words in the content\n",
    "    df['stopword_count'] = df['text'].apply(lambda x: len([wrd for wrd in x.split() if wrd.lower() in stop_words]))  # total number of stopwords in the content\n",
    "    \n",
    "    return df"
   ]
  },
  {
   "cell_type": "code",
   "execution_count": 78,
   "id": "6a85890f-9850-48ea-bcc6-b164f3190a74",
   "metadata": {},
   "outputs": [],
   "source": [
    "df = text_process(df)"
   ]
  },
  {
   "cell_type": "code",
   "execution_count": 42,
   "id": "c033c339-c91f-486f-a87b-607ab3baf6a1",
   "metadata": {},
   "outputs": [],
   "source": [
    "def count_part_of_speech(text, pos):\n",
    "    \"\"\"\n",
    "    This methos checks if first word in sentence is a verb or not\n",
    "\n",
    "    PARAMETERS \n",
    "        text (str): Text to be processed   \n",
    "    RETURN\n",
    "        Returns (bool): a boolean to confirm if first word in sentence is a verb or not\n",
    "    \"\"\"\n",
    "    pos_dic = {\n",
    "    'noun' : ['NN','NNS','NNP','NNPS'],\n",
    "    'pron' : ['PRP','PRP$','WP','WP$'],\n",
    "    'verb' : ['VB','VBD','VBG','VBN','VBP','VBZ'],\n",
    "    'adj' :  ['JJ','JJR','JJS'],\n",
    "    'adv' : ['RB','RBR','RBS','WRB']\n",
    "    }\n",
    "\n",
    "    word_list = nltk.word_tokenize(text)\n",
    "    count = 0\n",
    "    pos_tags = nltk.pos_tag(word_list)  #obtaing the pos taggings\n",
    "    for tag in pos_tags:\n",
    "        \n",
    "        #selecting the pos tag of the first item in the sentence\n",
    "        _, first_tag = tag\n",
    "\n",
    "        #checking if the first word in the senntece has a pos tagging of VERB\n",
    "        if first_tag in pos_dic[pos]:\n",
    "            count += 1\n",
    "    return count"
   ]
  },
  {
   "cell_type": "code",
   "execution_count": 43,
   "id": "13262ce0-1021-47e3-a513-aafdcc8e83c0",
   "metadata": {},
   "outputs": [],
   "source": [
    "def reduce_text(text, num_sent = 4):\n",
    "    \"\"\"\n",
    "    This function reduces the volume of the text content by selecting a number of sentence.\n",
    "    \n",
    "    Input:\n",
    "        text (str): the text content which we want to reduce\n",
    "        num_sent (int): the number of sentence we may want to select\n",
    "        \n",
    "    Output:\n",
    "        text (str): a sample of the text that is be selected\n",
    "    \"\"\"\n",
    "    content = detokenize().detokenize(nltk.sent_tokenize(text)[:num_sent])\n",
    "    return content"
   ]
  },
  {
   "cell_type": "code",
   "execution_count": 45,
   "id": "3dd823da-7b37-4309-b7e5-a267d6145eea",
   "metadata": {},
   "outputs": [],
   "source": [
    "df['reduced_text'] = df['text'].apply(lambda text: reduce_text(text))"
   ]
  },
  {
   "cell_type": "code",
   "execution_count": 49,
   "id": "f56a79b6-fc85-4ac7-917c-8ca6ef619194",
   "metadata": {},
   "outputs": [],
   "source": [
    "def extract_part_of_speech(df):\n",
    "    \"\"\"\n",
    "    This function extracts some part of speech and saves their counts in a columns\n",
    "    \n",
    "    Input:\n",
    "        df (dataframe): The dataframe object\n",
    "    \n",
    "    Output:\n",
    "        df (dataframe): The extended dataframe with the new columns\n",
    "    \"\"\"\n",
    "    \n",
    "    df['noun_count'] = df['reduced_text'].apply(lambda x: count_part_of_speech(x, 'noun'))\n",
    "    df['verb_count'] = df['reduced_text'].apply(lambda x: count_part_of_speech(x, 'verb'))\n",
    "    df['adj_count'] = df['reduced_text'].apply(lambda x: count_part_of_speech(x, 'adj'))\n",
    "    df['adv_count'] = df['reduced_text'].apply(lambda x: count_part_of_speech(x, 'adv'))\n",
    "    df['pron_count'] = df['reduced_text'].apply(lambda x: count_part_of_speech(x, 'pron'))\n",
    "    \n",
    "    return df"
   ]
  },
  {
   "cell_type": "code",
   "execution_count": null,
   "id": "3002b47d-4881-4f8b-b43e-a1b9cbf57f2f",
   "metadata": {},
   "outputs": [],
   "source": [
    "df = extract_part_of_speech(df)"
   ]
  },
  {
   "cell_type": "code",
   "execution_count": null,
   "id": "aaa20083-4b1b-44de-ad92-b7eb742bc858",
   "metadata": {},
   "outputs": [],
   "source": [
    "# dropping unused colums\n",
    "\n",
    "df.drop(['char_count'], axis=1, inplace=True)"
   ]
  },
  {
   "cell_type": "markdown",
   "id": "373aaa88-875a-4ceb-9fde-1c7394260ad1",
   "metadata": {},
   "source": [
    "# Data Exploration and Visualization\n",
    "\n",
    "\n",
    "Exploring and visualizing features is one important process of data science. it helps us to examine how the features are distributed."
   ]
  },
  {
   "cell_type": "code",
   "execution_count": null,
   "id": "3429774e-0b2c-4564-a38d-fad8499aed06",
   "metadata": {},
   "outputs": [],
   "source": [
    "fig, axes = plt.subplots(nrows=1, ncols=1, figsize=(7,5))\n",
    "ax = sns.countplot(x='label', data=df, ax = axes,);\n",
    "plt.title(\"Distribution of News by authenticity count\")\n",
    "\n",
    "for p in ax.patches:\n",
    "    height = p.get_height()\n",
    "    ax.text(p.get_x()+p.get_width()/2.,\n",
    "            height + 3,\n",
    "            '{:1.2f}'.format(height/float(len(df))*100)+'%',\n",
    "            ha=\"center\")"
   ]
  },
  {
   "cell_type": "markdown",
   "id": "efcb3157-32a0-4018-bc6f-01789576b715",
   "metadata": {},
   "source": [
    "## What is the relationship of the word counts and upper case count in the news content"
   ]
  },
  {
   "cell_type": "code",
   "execution_count": null,
   "id": "65379864-307c-468d-83af-22d376da337c",
   "metadata": {},
   "outputs": [],
   "source": [
    "f, ax = plt.subplots(nrows=1, ncols=1, figsize=(10,5))\n",
    "sns.scatterplot(x='word_count', y='upper_case_word_count', data=df, hue='label');"
   ]
  },
  {
   "cell_type": "markdown",
   "id": "41dcfd64-ab65-4327-ba74-a3aaf33c5549",
   "metadata": {},
   "source": [
    "## What is the correlation of punctuation counts and title case count in the text content"
   ]
  },
  {
   "cell_type": "code",
   "execution_count": null,
   "id": "82dbb30e-6481-4bea-b41a-870f739c1d0c",
   "metadata": {},
   "outputs": [],
   "source": [
    "f, ax = plt.subplots(nrows=1, ncols=1, figsize=(10,5))\n",
    "sns.scatterplot(x='title_word_count', y='punctuation_count', data=df, hue='label', );"
   ]
  },
  {
   "cell_type": "markdown",
   "id": "4188b6d3-df6d-4de8-8253-2637c3cb8959",
   "metadata": {},
   "source": [
    "## what is the relationship of the word counts and stopword count in the text content."
   ]
  },
  {
   "cell_type": "code",
   "execution_count": null,
   "id": "fe930ca4-5d75-4ca2-954e-59038db36eb4",
   "metadata": {},
   "outputs": [],
   "source": [
    "f, ax = plt.subplots(nrows=1, ncols=1, figsize=(10,5))\n",
    "sns.scatterplot(x='stopword_count', y='word_count', data=df, hue='label')"
   ]
  },
  {
   "cell_type": "markdown",
   "id": "e742c53f-3457-46e5-aba9-b9f23cbc9732",
   "metadata": {},
   "source": [
    "## What is the relationship of the numeric features"
   ]
  },
  {
   "cell_type": "code",
   "execution_count": null,
   "id": "bfa1aaee-2053-49e8-8496-9ca2dececed8",
   "metadata": {},
   "outputs": [],
   "source": [
    "plt.figure(figsize=(12,8))\n",
    "sns.heatmap(df.corr())\n",
    "plt.tight_layout()"
   ]
  },
  {
   "cell_type": "markdown",
   "id": "a31b2e24-1b53-4360-a7d9-30e46f607bc5",
   "metadata": {},
   "source": [
    "# building a model for the textual features"
   ]
  },
  {
   "cell_type": "code",
   "execution_count": null,
   "id": "26933863-6dcb-4aff-9baa-dac10c3d80f7",
   "metadata": {},
   "outputs": [],
   "source": [
    "def tokenize(text):\n",
    "    '''\n",
    "    PARAMETERS \n",
    "        text (str): Text to be processed   \n",
    "    RETURN\n",
    "        Returns a processed text variable that was tokenized, lower cased, stripped, and lemmatized\n",
    "    '''\n",
    "    tokens = word_tokenize(text)\n",
    "    lemmatizer = WordNetLemmatizer()\n",
    "    clean_tokens = []\n",
    "    for tok in tokens:\n",
    "        clean_tok = lemmatizer.lemmatize(tok).lower().strip()\n",
    "        clean_tokens.append(clean_tok)\n",
    "\n",
    "    return clean_tokens"
   ]
  },
  {
   "cell_type": "code",
   "execution_count": null,
   "id": "a8a2809a-16b3-4642-85d3-7e4d0871277e",
   "metadata": {},
   "outputs": [],
   "source": [
    "# selecting the target feature\n",
    "y = df['label']"
   ]
  },
  {
   "cell_type": "code",
   "execution_count": null,
   "id": "c307c822-0fb8-4121-a382-bca26d9c0138",
   "metadata": {},
   "outputs": [],
   "source": [
    "models = [('lr', LogisticRegression()), ('knn', KNeighborsClassifier()), ('cart', DecisionTreeClassifier()), ('svm', LinearSVC())]"
   ]
  },
  {
   "cell_type": "code",
   "execution_count": null,
   "id": "d7ed978e-29f5-451b-96f6-6a7b58a31f04",
   "metadata": {},
   "outputs": [],
   "source": [
    "def build_nlp_model(X, y, model):\n",
    "    \"\"\"\n",
    "    This function build trains a model using NLP pipeline\n",
    "    \n",
    "    Input:\n",
    "        X (matrix, dataframe): This is the feature(s) which we want to use to fit a model\n",
    "        Y (series): This is the target feature that we want to predict\n",
    "    \n",
    "    Output:\n",
    "        y_test (series): a subset of the target variable that will be used to evaluate the model\n",
    "        y_pred (series): the predicted y using the trained model\n",
    "    \"\"\"\n",
    "    X_train, X_test, y_train, y_test = train_test_split(X, y, test_size=0.2, random_state=45)\n",
    "    vect = CountVectorizer(tokenizer=tokenize)\n",
    "    tfidf = TfidfTransformer()\n",
    "    clf = model\n",
    "\n",
    "    # train classifier\n",
    "    X_train_counts = vect.fit_transform(X_train)\n",
    "    X_train_tfidf = tfidf.fit_transform(X_train_counts)\n",
    "    clf.fit(X_train_tfidf, y_train)\n",
    "\n",
    "    # predict on test data\n",
    "    X_test_counts = vect.transform(X_test)\n",
    "    X_test_tfidf = tfidf.transform(X_test_counts)\n",
    "    y_pred = clf.predict(X_test_tfidf)\n",
    "    \n",
    "    return y_test, y_pred"
   ]
  },
  {
   "cell_type": "markdown",
   "id": "deadec88-2a81-47d7-9237-5ebe6b91cdb0",
   "metadata": {},
   "source": [
    "# Model Evaluation and Validation\n",
    "In order to evaluate the accuracy of the model, model accuracy score from the sklearn package was used. The evaluation metrics was used to choose which learning model classifier best fit the data."
   ]
  },
  {
   "cell_type": "code",
   "execution_count": null,
   "id": "6adc2fd1-f9a5-4e5a-9b00-53024e48a961",
   "metadata": {},
   "outputs": [],
   "source": [
    "def evaluate_model(model_names, accuracy_list, f1scores):\n",
    "    \"\"\"\n",
    "    This function plots a line graph with two lines indicating the accuracy and recall of the model\n",
    "    \"\"\"\n",
    "    # create figure and axis objects with subplots()\n",
    "    fig,ax = plt.subplots(figsize=(8,6))\n",
    "    # make a plot\n",
    "    ax.plot(model_names, f1scores, color=\"red\", marker=\"o\")\n",
    "    # set x-axis label\n",
    "    ax.set_xlabel(\"Model\",fontsize=14)\n",
    "    # set y-axis label\n",
    "    ax.set_ylabel(\"Model F1Score\",color=\"red\",fontsize=14)\n",
    "    plt.ylim((0.2,1))\n",
    "\n",
    "    # twin object for two different y-axis on the sample plot\n",
    "    ax2=ax.twinx()\n",
    "    # make a plot with different y-axis using second axis object\n",
    "    ax2.plot(model_names, accuracy_list,color=\"blue\",marker=\"o\")\n",
    "    ax2.set_ylabel(\"Model Accuracy\",color=\"blue\",fontsize=14)\n",
    "    plt.ylim((0.2,1))"
   ]
  },
  {
   "cell_type": "code",
   "execution_count": null,
   "id": "ffc00fe7-a41b-4cce-933d-d7e8ad787c48",
   "metadata": {},
   "outputs": [],
   "source": []
  },
  {
   "cell_type": "code",
   "execution_count": null,
   "id": "fc59346e-7ee7-4a2c-a777-ec700a771bfc",
   "metadata": {},
   "outputs": [],
   "source": [
    "def train_model (X, y, models, clf):\n",
    "        \n",
    "    \"\"\"\n",
    "    This function trains various and evaluates them to observe the best model\n",
    "    \n",
    "    Input:\n",
    "        X (matrix, dataframe): the input features\n",
    "        y (series): the target feature\n",
    "        models: a dictionary of models that will be trained\n",
    "    \n",
    "    \"\"\"\n",
    "    accuracy = {}\n",
    "    f1score = {}\n",
    "    for i in range(len(models)):\n",
    "        model = models[i]\n",
    "\n",
    "        y_test_text, y_pred_text = clf(X, y, model[1])\n",
    "        accuracy[model[0]] = accuracy_score(y_test_text, y_pred_text)\n",
    "        f1score[model[0]] = f1_score(y_test_text, y_pred_text)\n",
    "    \n",
    "    model_names = list(f1score.keys())\n",
    "    f1scores = list(f1score.values())\n",
    "    accuracy_list = list(accuracy.values())\n",
    "    evaluate_model(model_names, accuracy_list, f1scores)"
   ]
  },
  {
   "cell_type": "markdown",
   "id": "d330d419-27a6-4b16-a399-47eb8a2ef7ed",
   "metadata": {},
   "source": [
    "## Using the reduced text to train a model"
   ]
  },
  {
   "cell_type": "code",
   "execution_count": null,
   "id": "afa09eeb-21a9-403c-994b-168a8cd62494",
   "metadata": {},
   "outputs": [],
   "source": [
    "X_text = df['reduced_text']\n",
    "train_model(X_text, y, models, build_nlp_model)"
   ]
  },
  {
   "cell_type": "markdown",
   "id": "4ed7d083-5c02-4c88-b3a1-8f86bb59fb27",
   "metadata": {},
   "source": [
    "## Using the title to train a model\n"
   ]
  },
  {
   "cell_type": "code",
   "execution_count": null,
   "id": "7ca5d16b-aa33-42bb-a2e1-6f23e8bf44f2",
   "metadata": {},
   "outputs": [],
   "source": [
    "X_title = df['title']\n",
    "train_model(X_title, y, models, build_nlp_model)"
   ]
  },
  {
   "cell_type": "markdown",
   "id": "60c170cd-e4b4-4c7d-846a-1ceb22270482",
   "metadata": {},
   "source": [
    "## Using the full text to train the model"
   ]
  },
  {
   "cell_type": "code",
   "execution_count": null,
   "id": "8adc18ac-b3b4-424c-b297-30ced5f5cf9a",
   "metadata": {},
   "outputs": [],
   "source": [
    "X_title = df['text']\n",
    "train_model(X_title, y, models, build_nlp_model)"
   ]
  },
  {
   "cell_type": "code",
   "execution_count": null,
   "id": "c953cb1e-e199-44dd-8200-3bd226b0f089",
   "metadata": {},
   "outputs": [],
   "source": [
    "def build_model(X, y, model):\n",
    "    \"\"\"\n",
    "    This function build trains a model using extracted features\n",
    "    \n",
    "    Input:\n",
    "        X (matrix, dataframe): This is the feature(s) which we want to use to fit a model\n",
    "        Y (series): This is the target feature that we want to predict\n",
    "    \n",
    "    Output:\n",
    "        y_test (series): a subset of the target variable that will be used to evaluate the model\n",
    "        y_pred (series): the predicted y using the trained model\n",
    "    \"\"\"\n",
    "    \n",
    "    scaler = StandardScaler()\n",
    "    X_train, X_test, y_train, y_test = train_test_split(X, y, test_size=0.2, random_state=45)\n",
    "    \n",
    "    X_train = scaler.fit_transform(X_train)\n",
    "    X_test = scaler.transform(X_test)\n",
    "    \n",
    "    model = model\n",
    "    model.fit(X_train, y_train)\n",
    "    y_pred = model.predict(X_test)\n",
    "    \n",
    "    return y_test, y_pred"
   ]
  },
  {
   "cell_type": "code",
   "execution_count": null,
   "id": "d5827a8e-f8d3-4de1-ab1f-e3f8b3e7d09b",
   "metadata": {},
   "outputs": [],
   "source": [
    "X = df.drop(['title', 'label', 'reduced_text', 'text'], axis=1)"
   ]
  },
  {
   "cell_type": "code",
   "execution_count": null,
   "id": "062d0d32-20b2-4fc2-a9ea-dfaa652cd0d5",
   "metadata": {},
   "outputs": [],
   "source": [
    "train_model(X, y, models, build_model)"
   ]
  }
 ],
 "metadata": {
  "kernelspec": {
   "display_name": "Python 3 (ipykernel)",
   "language": "python",
   "name": "python3"
  },
  "language_info": {
   "codemirror_mode": {
    "name": "ipython",
    "version": 3
   },
   "file_extension": ".py",
   "mimetype": "text/x-python",
   "name": "python",
   "nbconvert_exporter": "python",
   "pygments_lexer": "ipython3",
   "version": "3.9.9"
  }
 },
 "nbformat": 4,
 "nbformat_minor": 5
}
